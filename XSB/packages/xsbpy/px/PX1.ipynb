{
 "cells": [
  {
   "cell_type": "markdown",
   "id": "4cc19cc9",
   "metadata": {},
   "source": [
    "# PX: Using XSB in Python\n",
    "## 1: Getting Started\n",
    "\n",
    "This notebook provides some examples of how to run XSB from a Python interpreter, and by extension, how to embed XSB into Python applications using an XSB package tentatively called **px**  The material presented here does not cover all **px** functionality, and does not even begin to cover all XSB functionality.  See the XSB manuals for background in and full details of XSB, and Volume 2 Chapter 18 for details of **px**.\n",
    "\n",
    "To start, simply import the **px** module like any other Python module."
   ]
  },
  {
   "cell_type": "code",
   "execution_count": null,
   "id": "70fee3ae",
   "metadata": {},
   "outputs": [],
   "source": [
    "from px import *\n"
   ]
  },
  {
   "cell_type": "markdown",
   "id": "55b40851",
   "metadata": {},
   "source": [
    "Note that importing **pyxsb** automatically starts up XSB within the same process as your Python session.  You can get basic information on commands via help(), but see the XSB manual for full details (Volume 2, Chapter 18, remember)"
   ]
  },
  {
   "cell_type": "code",
   "execution_count": null,
   "id": "4f63751d",
   "metadata": {},
   "outputs": [],
   "source": [
    "help('px')"
   ]
  },
  {
   "cell_type": "markdown",
   "id": "40c75dc4",
   "metadata": {},
   "source": [
    "## 2. Deterministic Queries and Commands\n",
    "\n",
    "Let's get started with a simple query to XSB to reverse a list containing a integers, a tuple and a dictionary.  `basics` is the XSB module, and `reverse` is the XSB predicate."
   ]
  },
  {
   "cell_type": "code",
   "execution_count": null,
   "id": "b6d26648",
   "metadata": {},
   "outputs": [],
   "source": [
    "Ans,TV = px_qdet('basics','reverse',[1,2,3,('t1','t2'),{'a':{'b':'c'}}])\n",
    "print(Ans)\n",
    "print(TV)"
   ]
  },
  {
   "cell_type": "markdown",
   "id": "934ae8e9",
   "metadata": {},
   "source": [
    "We'll discuss below why `px_qdet()` returns both an _answer_ and a _truth value_. First we note that alternatively, we could have called `pp_px_qdet()`which pretty-prints both the query and answer. For instance:"
   ]
  },
  {
   "cell_type": "code",
   "execution_count": null,
   "id": "0efa365a",
   "metadata": {},
   "outputs": [],
   "source": [
    "pp_px_qdet('basics','reverse',[1,2,3,('t1','t2'),{'a':{'b':'c'}}])"
   ]
  },
  {
   "cell_type": "markdown",
   "id": "0fb3a40e",
   "metadata": {},
   "source": [
    "Various **px** functions have a pretty printing form, and we'll use the `pp_px` and `px` prefixes interchangeably.\n",
    "\n",
    "As seen above, `px_qdet`() adds an extra argument to the Prolog call so that `reverse`/2 is called.  The extra argument allows bindings to be passed back to Prolog.  But suppose you want to call the Prolog goal `consult(px)` or `p(a,b,c)`.  In this case, just use `px_cmd()` -- or `pp_px_cmd()`:"
   ]
  },
  {
   "cell_type": "code",
   "execution_count": null,
   "id": "7eafa122",
   "metadata": {},
   "outputs": [],
   "source": [
    " pp_px_cmd('px_test','one_ary_fail','p')  "
   ]
  },
  {
   "cell_type": "markdown",
   "id": "394ba4c8",
   "metadata": {},
   "source": [
    "In this case, there is no answer to return, but the truth value indicates that the query failed (in Prolog, a failure is different than an error condition, as we'll see below). "
   ]
  },
  {
   "cell_type": "markdown",
   "id": "002f0483",
   "metadata": {},
   "source": [
    "In general, truth values passed back by XSB can be:\n",
    "\n",
    "* 1 (*true*) which means the query succeeded and that the answer is true in the Well-Founded Model of the program.\n",
    "* 0 *false* which means that the query failed and that the query has no answers in the Well-Founded Model of the program.\n",
    "* 2 *undefined* which means that the query succeeded, but the answer is neither *true* nor *false* in the Well-Funded Mdel of the program.\n",
    "\n",
    "An example of returning an answer with *undefined* truth value is:\n"
   ]
  },
  {
   "cell_type": "code",
   "execution_count": null,
   "id": "1e2ea3cf",
   "metadata": {},
   "outputs": [],
   "source": [
    " pp_px_cmd('px_test','win','p')  "
   ]
  },
  {
   "cell_type": "markdown",
   "id": "8226b05a",
   "metadata": {},
   "source": [
    "Using px_cmd() to consult XSB files was mentioned above; this can be done fully interactively with **px**.  Let's say you made a change to **px_test.P**.  There's no need to leave your session -- just (re-)consult it."
   ]
  },
  {
   "cell_type": "code",
   "execution_count": null,
   "id": "f1d5a8d2",
   "metadata": {},
   "outputs": [],
   "source": [
    "consult('px_test')"
   ]
  },
  {
   "cell_type": "markdown",
   "id": "70c5f8e3",
   "metadata": {},
   "source": [
    "One least aspect of querying is exception handling.  If an exception occurs in XSB execution, it is caught by **px**, a Python exception of the general **Exception** class is then raised for Python to handle.  However, by another call to XSB the actual XSB exception can also be examined.  Within the pretty-print display format this looks like:"
   ]
  },
  {
   "cell_type": "code",
   "execution_count": null,
   "id": "d55bd47f",
   "metadata": {},
   "outputs": [],
   "source": [
    "pp_px_qdet('usermod','open','missing_file','read')"
   ]
  },
  {
   "cell_type": "markdown",
   "id": "b910e6de",
   "metadata": {},
   "source": [
    " ## 3. List and Set Comphrehensions with PX\n",
    "\n",
    "The above queries were determinstic, but you can collect all solutions of a non-deterministic query using a construct similar to list or set comprehension in Python.By default the collection is a Python list, but it can also be a Python set.\n",
    "\n",
    "The Python function call \n",
    "\n",
    "**px_comp(Module,Predicate,\\*args,\\*\\*kwargs)**\n",
    "\n",
    "returns a collection of answers such that the Prolog goal \n",
    "\n",
    "**Module:Predicate(input_args,output_variables)**\n",
    "\n",
    "The number of variable arguments in the Python call (i.e., the number of elements in the \\*args tuple) corresponds to the number of **input_arguments** in the XSB goal.  The number of **output_variables** is by default 1, but can be set by the **vars** keyword argument."
   ]
  },
  {
   "cell_type": "markdown",
   "id": "95ffadc5",
   "metadata": {},
   "source": [
    "Let's see how this works.  Consider the simple predicate:\n",
    "\n",
    "    test_comp(a).                                                \n",
    "    test_comp(b).                                      \n",
    "    test_comp(c).                                           \n",
    "    test_comp(d).                                                       test_comp(e):- unk(something).                                       test_comp(e):- unk(something_else)."
   ]
  },
  {
   "cell_type": "code",
   "execution_count": null,
   "id": "ab2cb86a",
   "metadata": {},
   "outputs": [],
   "source": [
    "pp_px_comp('px_test','test_comp')"
   ]
  },
  {
   "cell_type": "markdown",
   "id": "b934addd",
   "metadata": {},
   "source": [
    "Note that when translating from Prolog to Python a Prolog term in `px_comp()` answer bindings **test_comp/1** are returned.  Suppose the predicate `test_comp` were in fact 2-ary:\n",
    "\n",
    "   test_comp(a,1).<br>\n",
    "   test_comp(b,2).<br>\n",
    "  test_comp(c,3).<br>\n",
    "  test_comp(d,4). <br>\n",
    "  test_comp(e,5):- unk(something).   \n",
    "  test_comp(e,5):- unk(something_else). \n",
    "\n",
    "In this case we just set the `vars` keyword:"
   ]
  },
  {
   "cell_type": "code",
   "execution_count": null,
   "id": "3b875c86",
   "metadata": {},
   "outputs": [],
   "source": [
    "pp_px_comp('px_test','test_comp',vars=2)"
   ]
  },
  {
   "cell_type": "markdown",
   "id": "9bc797b7",
   "metadata": {},
   "source": [
    "Now the bindings for the 2 variables are captured by a 2-ary tuple. To see why the first two answers appear the same, execute the follwoing:"
   ]
  },
  {
   "cell_type": "code",
   "execution_count": null,
   "id": "dbd988b9",
   "metadata": {},
   "outputs": [],
   "source": [
    "pp_px_comp('px_test','test_comp',vars=2,truth_vals=DELAY_LISTS)"
   ]
  },
  {
   "cell_type": "markdown",
   "id": "4e68ba13",
   "metadata": {},
   "source": [
    "Just as a reminder, the answers are being passed back to Python which are then output as terms via the **px** Pyrhon pretty-printer.  (The Python representation of Prolog structures is discussed in the manual.)\n",
    "\n",
    "If you just want to remove duplicates, simply use set comprehension instead."
   ]
  },
  {
   "cell_type": "code",
   "execution_count": null,
   "id": "d1cf235a",
   "metadata": {},
   "outputs": [],
   "source": [
    "pp_px_comp('px_test','test_comp',vars=2,set_collect=True)"
   ]
  },
  {
   "cell_type": "markdown",
   "id": "97459d5d",
   "metadata": {},
   "source": [
    "The default behavior of `px_comp()`is to return a list, list comprehension is more general. Python sets cannot contain dictionaries or other sets."
   ]
  },
  {
   "cell_type": "markdown",
   "id": "649b8a22",
   "metadata": {},
   "source": [
    "# Going Forward\n",
    "\n",
    "As mentioned, a short notebook is only a sampler of what XSB can do.  The file **tpx()** in the directory **XSB_ROOT/XSB/packages/xsbpy/px** contains a number of other examples in its test file **tpx.py**.  These examples include constraint-based reasoning, timed calls, and stress tests.  Probabilistic reasoning and virtually all other XSB functionality is also supported -- well, pretty much.  See Volume 2 chapter 18 for a list of current limitiations, most all of which are in the process of being addressed.\n"
   ]
  }
 ],
 "metadata": {
  "kernelspec": {
   "display_name": "Python 3 (ipykernel)",
   "language": "python",
   "name": "python3"
  },
  "language_info": {
   "codemirror_mode": {
    "name": "ipython",
    "version": 3
   },
   "file_extension": ".py",
   "mimetype": "text/x-python",
   "name": "python",
   "nbconvert_exporter": "python",
   "pygments_lexer": "ipython3",
   "version": "3.8.12"
  }
 },
 "nbformat": 4,
 "nbformat_minor": 5
}
