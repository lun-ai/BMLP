{
 "cells": [
  {
   "cell_type": "markdown",
   "id": "ee754a01",
   "metadata": {},
   "source": [
    "To demonstrate pxp callbacks (i.e., Python calling Prolog which then calls Python) we start by importing a module that contains XSB.  \n",
    "\n",
    "However, first we have to set up the Python paths, meaning thaat we need to add to sys.path the directory containing **px**, which is in `$XSB_ROOT/XSB/packages/xsbpy/px` Assuming this notebook is run from `$XSB_ROOT/XSB/examples/python_examples` we can set the relative path as follows.  (Otherwise, add the absolute path to the `pd` directory.) For the purposes of this notebook, it's ok to add to the beginning of `sys.path`"
   ]
  },
  {
   "cell_type": "code",
   "execution_count": null,
   "id": "b52b00f2",
   "metadata": {},
   "outputs": [],
   "source": [
    "import sys\n",
    "sys.path.insert(0,'../../packages/xsbpy/px')   "
   ]
  },
  {
   "cell_type": "code",
   "execution_count": null,
   "id": "080fdedf",
   "metadata": {
    "scrolled": true
   },
   "outputs": [],
   "source": [
    "from tpx import *"
   ]
  },
  {
   "cell_type": "markdown",
   "id": "1c13c080",
   "metadata": {},
   "source": [
    "The above command installs the `tpx` module, which includes both **px** and various tests.  Also, note that **xsbpy** is also loaded on importing **px** (this is due to my `xsbrc.P` initialization file\n",
    "\n",
    "So now let's load some Prolog that calls Python:"
   ]
  },
  {
   "cell_type": "code",
   "execution_count": null,
   "id": "cfdb116f",
   "metadata": {},
   "outputs": [],
   "source": [
    "ensure_loaded('xp_unicode') "
   ]
  },
  {
   "cell_type": "markdown",
   "id": "cd283740",
   "metadata": {},
   "source": [
    "The file `xp_unicode` is an XSB library that uses the Python \n",
    "standard library to add a bit more unicode functionality to XSB -- \n",
    "the library is small right now, but will grow.  In any case, in the following Python call the Prolog predicate uses a callback to capitalize the Greek text.\n"
   ]
  },
  {
   "cell_type": "code",
   "execution_count": null,
   "id": "e3d7aeb4",
   "metadata": {},
   "outputs": [],
   "source": [
    "px_qdet('xp_unicode','unicode_upper','Η Google μου το μετέφρασε')  "
   ]
  },
  {
   "cell_type": "markdown",
   "id": "60048548",
   "metadata": {},
   "source": [
    "`xp_unicode:unicode_upper/2` is defined as                                                                                        \n",
    "unicode_upper(Lower,Upper):-                                              pyfunc(xp_unicode,unicode_upper(Lower),Upper).                                               \n",
    "So in the above call, Python returned an answer to Prolog which returned it back to Python.    \n",
    "\n",
    "The callbacks don't seem to require anything special -- for callbacks, XSB just calls `pyfunc/3`, `pydot/4` as it would ordinarily.  The next example uses a new test file, `testcb.P` that contains the rule:                                   \n",
    "                            \n",
    "test_json(Ret):-       \n",
    "&emsp; pyfunc(xp_json,prolog_loads(     '\"name\":\"Bob\",\"languages\":\"English\",\"Fench\",\"GERMAN\"]}'),Ret)."
   ]
  },
  {
   "cell_type": "code",
   "execution_count": null,
   "id": "06520861",
   "metadata": {},
   "outputs": [],
   "source": [
    "ensure_loaded('testcb')"
   ]
  },
  {
   "cell_type": "code",
   "execution_count": null,
   "id": "c4f47dd6",
   "metadata": {},
   "outputs": [],
   "source": [
    "px_qdet('testcb','test_json')"
   ]
  },
  {
   "cell_type": "markdown",
   "id": "8b1c50fe",
   "metadata": {},
   "source": [
    "In this example, Python read a JSON string and created a Python dictionary.  This dictionary was translated to a Prolog pyDict/1 term when pfunc/3 returned to Prolog.  Then when the Prolog predicate succeeded, the dictionary was retranslated to Python.\n",
    "\n",
    "As the next example, we show how a class created by a Python callback is available to the top-level Python.  They should just be the same Python -- so its just a sanity check.   The Prolog `testcb` module contains the rule:\n",
    "\n",
    "test_class(Name,Obj):-                                                                           \n",
    "    pyfunc('Person','Person'(Name,35),Obj).  \n",
    "    \n",
    "That creates an instance of the `Person` class and passes back the object reference."
   ]
  },
  {
   "cell_type": "code",
   "execution_count": null,
   "id": "a7b717a0",
   "metadata": {},
   "outputs": [],
   "source": [
    "NewClass,TV = px_qdet('testcb','test_class','joe')   "
   ]
  },
  {
   "cell_type": "code",
   "execution_count": null,
   "id": "b36a42cc",
   "metadata": {},
   "outputs": [],
   "source": [
    "NewClass.name"
   ]
  },
  {
   "cell_type": "markdown",
   "id": "3f305a2b",
   "metadata": {},
   "source": [
    "Thus, the callback can communicate with the top Python either by passing the information explicitly through Prolog or by changing the state of the Python store.  Of course references to created objects need to be coodinated by explicit object references (as above) or some other means.\n"
   ]
  },
  {
   "cell_type": "code",
   "execution_count": null,
   "id": "763f24e9",
   "metadata": {},
   "outputs": [],
   "source": []
  }
 ],
 "metadata": {
  "kernelspec": {
   "display_name": "Python 3 (ipykernel)",
   "language": "python",
   "name": "python3"
  },
  "language_info": {
   "codemirror_mode": {
    "name": "ipython",
    "version": 3
   },
   "file_extension": ".py",
   "mimetype": "text/x-python",
   "name": "python",
   "nbconvert_exporter": "python",
   "pygments_lexer": "ipython3",
   "version": "3.8.12"
  }
 },
 "nbformat": 4,
 "nbformat_minor": 5
}
